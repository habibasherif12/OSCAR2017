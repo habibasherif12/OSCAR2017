{
  "nbformat": 4,
  "nbformat_minor": 0,
  "metadata": {
    "colab": {
      "provenance": [],
      "gpuType": "T4",
      "authorship_tag": "ABX9TyOudi/tmtcKtz6B+TvRI9d5",
      "include_colab_link": true
    },
    "kernelspec": {
      "name": "python3",
      "display_name": "Python 3"
    },
    "language_info": {
      "name": "python"
    },
    "accelerator": "GPU"
  },
  "cells": [
    {
      "cell_type": "markdown",
      "metadata": {
        "id": "view-in-github",
        "colab_type": "text"
      },
      "source": [
        "<a href=\"https://colab.research.google.com/github/habibasherif12/OSCAR2017/blob/main/RNN_Sentiment.ipynb\" target=\"_parent\"><img src=\"https://colab.research.google.com/assets/colab-badge.svg\" alt=\"Open In Colab\"/></a>"
      ]
    },
    {
      "cell_type": "code",
      "execution_count": 10,
      "metadata": {
        "colab": {
          "base_uri": "https://localhost:8080/"
        },
        "id": "o3vUzO8lOzGc",
        "outputId": "2e8f6cb1-3d18-475d-fc61-7486a8c03596"
      },
      "outputs": [
        {
          "output_type": "stream",
          "name": "stdout",
          "text": [
            "Path to dataset files: /root/.cache/kagglehub/datasets/astandrik/yelp-review/versions/1\n"
          ]
        }
      ],
      "source": [
        "import pandas as pd\n",
        "import numpy as np\n",
        "import tensorflow as tf\n",
        "from tensorflow.keras.preprocessing.text import Tokenizer\n",
        "from tensorflow.keras.preprocessing.sequence import pad_sequences\n",
        "from sklearn.model_selection import train_test_split\n",
        "import kagglehub\n",
        "import os\n",
        "\n",
        "# Download latest version\n",
        "df_path = kagglehub.dataset_download(\"astandrik/yelp-review\")\n",
        "\n",
        "print(\"Path to dataset files:\", df_path)\n",
        "\n"
      ]
    },
    {
      "cell_type": "code",
      "source": [
        "# Find the CSV file within the downloaded directory\n",
        "for filename in os.listdir(df_path):\n",
        "    if filename.endswith(\".csv\"):\n",
        "        csv_file_path = os.path.join(df_path, filename)\n",
        "        break  # Stop searching once found\n",
        "\n",
        "# Load the dataset into a pandas DataFrame\n",
        "df = pd.read_csv(csv_file_path)\n"
      ],
      "metadata": {
        "id": "O69dF4CoO1h_"
      },
      "execution_count": 11,
      "outputs": []
    },
    {
      "cell_type": "code",
      "source": [
        "\n",
        "# Keep only necessary columns\n",
        "df = df[['text', 'stars']]\n",
        "\n",
        "# Convert ratings to binary sentiment (1-2 stars → Negative, 4-5 stars → Positive)\n",
        "df = df[df['stars'] != 3]  # Remove neutral reviews\n",
        "df['sentiment'] = df['stars'].apply(lambda x: 1 if x > 3 else 0)\n",
        "\n",
        "sample_size = min(10000, len(df))\n",
        "df = df.sample(sample_size, random_state=42)\n",
        "\n",
        "# Split into train & test\n",
        "X_train, X_test, y_train, y_test = train_test_split(df['text'], df['sentiment'], test_size=0.2, random_state=42)\n",
        "\n",
        "print(f\"Training samples: {len(X_train)}, Testing samples: {len(X_test)}\")\n"
      ],
      "metadata": {
        "colab": {
          "base_uri": "https://localhost:8080/"
        },
        "id": "DXi8Sw1HO1lD",
        "outputId": "dc92c6ef-5d10-4165-f8b2-b6d8f2051da1"
      },
      "execution_count": 12,
      "outputs": [
        {
          "output_type": "stream",
          "name": "stdout",
          "text": [
            "Training samples: 6831, Testing samples: 1708\n"
          ]
        }
      ]
    },
    {
      "cell_type": "code",
      "source": [
        "# Hyperparameters\n",
        "MAX_VOCAB = 10000\n",
        "MAX_LEN = 100\n",
        "\n",
        "# Tokenization\n",
        "tokenizer = Tokenizer(num_words=MAX_VOCAB, oov_token=\"<OOV>\")\n",
        "tokenizer.fit_on_texts(X_train)\n",
        "\n",
        "X_train_seq = tokenizer.texts_to_sequences(X_train)\n",
        "X_test_seq = tokenizer.texts_to_sequences(X_test)\n",
        "\n",
        "# Padding sequences\n",
        "X_train_pad = pad_sequences(X_train_seq, maxlen=MAX_LEN, padding='post', truncating='post')\n",
        "X_test_pad = pad_sequences(X_test_seq, maxlen=MAX_LEN, padding='post', truncating='post')\n",
        "\n",
        "print(f\"Padded sample: {X_train_pad[0]}\")"
      ],
      "metadata": {
        "colab": {
          "base_uri": "https://localhost:8080/"
        },
        "id": "bmSYOgw2RKzO",
        "outputId": "45669b42-190d-425f-b721-d07d5a62fc48"
      },
      "execution_count": 13,
      "outputs": [
        {
          "output_type": "stream",
          "name": "stdout",
          "text": [
            "Padded sample: [   4   56  296 1773  372    1    5   28   12   34   30   57  661    3\n",
            "  896   45  133 1134    7  235  779   17  432   44    7  257  372   17\n",
            "    9    5  386 1689   71   23   55    2  200   44   13   93  297 2147\n",
            "    9   10   55    2   52    4    8 2028 3355   15   14 1446    3   24\n",
            "    6 4941  335   88   91 2582   11    5 1188 1135    3    1   53  193\n",
            "    1  766   15  319   17    9   55    2 2727   13 2234    2  142   53\n",
            "   14  481    3    4  608   27    2 7766  284   10    8 1514   11    2\n",
            "  670  161]\n"
          ]
        }
      ]
    },
    {
      "cell_type": "code",
      "source": [
        "# Import necessary layers\n",
        "from tensorflow.keras.models import Sequential\n",
        "from tensorflow.keras.layers import Embedding, SimpleRNN, Dense\n",
        "from tensorflow.keras.optimizers import Adam\n",
        "from tensorflow.keras.regularizers import L2\n",
        "from tensorflow.keras.callbacks import EarlyStopping, ReduceLROnPlateau\n",
        "\n",
        "# Define the model\n",
        "model = Sequential([\n",
        "    Embedding(MAX_VOCAB, 64, input_length=MAX_LEN),\n",
        "    SimpleRNN(64, return_sequences=False, kernel_regularizer=L2(0.001)),\n",
        "    Dense(1, activation='sigmoid')\n",
        "])\n",
        "\n",
        "# Compile model with lower learning rate\n",
        "model.compile(loss='binary_crossentropy', optimizer=Adam(learning_rate=0.0005), metrics=['accuracy'])\n",
        "\n",
        "# Callbacks for early stopping\n",
        "early_stop = EarlyStopping(monitor='val_loss', patience=3, restore_best_weights=True)\n",
        "reduce_lr = ReduceLROnPlateau(monitor='val_loss', factor=0.5, patience=2, verbose=1)\n",
        "\n",
        "# Train the model\n",
        "history = model.fit(\n",
        "    X_train_pad, y_train,\n",
        "    validation_data=(X_test_pad, y_test),\n",
        "    epochs=20, batch_size=32,\n",
        "    callbacks=[early_stop, reduce_lr]\n",
        ")\n",
        "\n",
        "# Save the trained model\n",
        "model.save(\"simple_rnn_yelp_sentiment.h5\")\n",
        "\n",
        "print(\"Model training complete and saved as simple_rnn_yelp_sentiment.h5\")\n"
      ],
      "metadata": {
        "colab": {
          "base_uri": "https://localhost:8080/"
        },
        "id": "SWyVgaXTO1oe",
        "outputId": "03849ee6-c1ae-4638-984a-48c42d780ea3"
      },
      "execution_count": 15,
      "outputs": [
        {
          "output_type": "stream",
          "name": "stdout",
          "text": [
            "Epoch 1/20\n",
            "\u001b[1m214/214\u001b[0m \u001b[32m━━━━━━━━━━━━━━━━━━━━\u001b[0m\u001b[37m\u001b[0m \u001b[1m6s\u001b[0m 16ms/step - accuracy: 0.8043 - loss: 0.5649 - val_accuracy: 0.8009 - val_loss: 0.5387 - learning_rate: 5.0000e-04\n",
            "Epoch 2/20\n",
            "\u001b[1m214/214\u001b[0m \u001b[32m━━━━━━━━━━━━━━━━━━━━\u001b[0m\u001b[37m\u001b[0m \u001b[1m2s\u001b[0m 9ms/step - accuracy: 0.8024 - loss: 0.5105 - val_accuracy: 0.8004 - val_loss: 0.5315 - learning_rate: 5.0000e-04\n",
            "Epoch 3/20\n",
            "\u001b[1m214/214\u001b[0m \u001b[32m━━━━━━━━━━━━━━━━━━━━\u001b[0m\u001b[37m\u001b[0m \u001b[1m2s\u001b[0m 9ms/step - accuracy: 0.8435 - loss: 0.4283 - val_accuracy: 0.7787 - val_loss: 0.5622 - learning_rate: 5.0000e-04\n",
            "Epoch 4/20\n",
            "\u001b[1m213/214\u001b[0m \u001b[32m━━━━━━━━━━━━━━━━━━━\u001b[0m\u001b[37m━\u001b[0m \u001b[1m0s\u001b[0m 9ms/step - accuracy: 0.9131 - loss: 0.2988\n",
            "Epoch 4: ReduceLROnPlateau reducing learning rate to 0.0002500000118743628.\n",
            "\u001b[1m214/214\u001b[0m \u001b[32m━━━━━━━━━━━━━━━━━━━━\u001b[0m\u001b[37m\u001b[0m \u001b[1m3s\u001b[0m 10ms/step - accuracy: 0.9131 - loss: 0.2988 - val_accuracy: 0.7342 - val_loss: 0.6585 - learning_rate: 5.0000e-04\n",
            "Epoch 5/20\n",
            "\u001b[1m214/214\u001b[0m \u001b[32m━━━━━━━━━━━━━━━━━━━━\u001b[0m\u001b[37m\u001b[0m \u001b[1m2s\u001b[0m 10ms/step - accuracy: 0.9370 - loss: 0.2219 - val_accuracy: 0.7289 - val_loss: 0.6703 - learning_rate: 2.5000e-04\n"
          ]
        },
        {
          "output_type": "stream",
          "name": "stderr",
          "text": [
            "WARNING:absl:You are saving your model as an HDF5 file via `model.save()` or `keras.saving.save_model(model)`. This file format is considered legacy. We recommend using instead the native Keras format, e.g. `model.save('my_model.keras')` or `keras.saving.save_model(model, 'my_model.keras')`. \n"
          ]
        },
        {
          "output_type": "stream",
          "name": "stdout",
          "text": [
            "Model training complete and saved as simple_rnn_yelp_sentiment.h5\n"
          ]
        }
      ]
    },
    {
      "cell_type": "code",
      "source": [
        "# Load the trained model\n",
        "model = tf.keras.models.load_model(\"simple_rnn_yelp_sentiment.h5\")\n",
        "\n",
        "# Evaluate the model on the test set\n",
        "test_loss, test_accuracy = model.evaluate(X_test_pad, y_test)\n",
        "\n",
        "print(f\"Test Loss: {test_loss:.4f}\")\n",
        "print(f\"Test Accuracy: {test_accuracy:.4f}\")"
      ],
      "metadata": {
        "colab": {
          "base_uri": "https://localhost:8080/"
        },
        "id": "iJ6gAkC1O1ro",
        "outputId": "26de60af-c058-4222-f760-fb45316c02c8"
      },
      "execution_count": 16,
      "outputs": [
        {
          "output_type": "stream",
          "name": "stderr",
          "text": [
            "WARNING:absl:Compiled the loaded model, but the compiled metrics have yet to be built. `model.compile_metrics` will be empty until you train or evaluate the model.\n"
          ]
        },
        {
          "output_type": "stream",
          "name": "stdout",
          "text": [
            "\u001b[1m54/54\u001b[0m \u001b[32m━━━━━━━━━━━━━━━━━━━━\u001b[0m\u001b[37m\u001b[0m \u001b[1m1s\u001b[0m 14ms/step - accuracy: 0.8153 - loss: 0.5109\n",
            "Test Loss: 0.5315\n",
            "Test Accuracy: 0.8004\n"
          ]
        }
      ]
    },
    {
      "cell_type": "code",
      "source": [
        "from sklearn.metrics import classification_report\n",
        "\n",
        "# Predict sentiment on test data\n",
        "y_pred_probs = model.predict(X_test_pad)  # Get probabilities\n",
        "y_pred = (y_pred_probs > 0.5).astype(int)  # Convert probabilities to binary labels\n",
        "\n",
        "# Print classification report\n",
        "print(classification_report(y_test, y_pred))\n"
      ],
      "metadata": {
        "colab": {
          "base_uri": "https://localhost:8080/"
        },
        "id": "rZYPrxNRPE7h",
        "outputId": "0833add1-f37a-425e-fb6c-6f9f1858dbe6"
      },
      "execution_count": 17,
      "outputs": [
        {
          "output_type": "stream",
          "name": "stdout",
          "text": [
            "\u001b[1m54/54\u001b[0m \u001b[32m━━━━━━━━━━━━━━━━━━━━\u001b[0m\u001b[37m\u001b[0m \u001b[1m1s\u001b[0m 14ms/step\n",
            "              precision    recall  f1-score   support\n",
            "\n",
            "           0       0.33      0.00      0.01       340\n",
            "           1       0.80      1.00      0.89      1368\n",
            "\n",
            "    accuracy                           0.80      1708\n",
            "   macro avg       0.57      0.50      0.45      1708\n",
            "weighted avg       0.71      0.80      0.71      1708\n",
            "\n"
          ]
        }
      ]
    },
    {
      "cell_type": "code",
      "source": [
        "import seaborn as sns\n",
        "import matplotlib.pyplot as plt\n",
        "from sklearn.metrics import confusion_matrix\n",
        "\n",
        "# Compute confusion matrix\n",
        "cm = confusion_matrix(y_test, y_pred)\n",
        "\n",
        "# Plot heatmap\n",
        "plt.figure(figsize=(6,5))\n",
        "sns.heatmap(cm, annot=True, fmt=\"d\", cmap=\"Blues\", xticklabels=['Negative', 'Positive'], yticklabels=['Negative', 'Positive'])\n",
        "plt.xlabel(\"Predicted Label\")\n",
        "plt.ylabel(\"True Label\")\n",
        "plt.title(\"Confusion Matrix\")\n",
        "plt.show()"
      ],
      "metadata": {
        "colab": {
          "base_uri": "https://localhost:8080/",
          "height": 487
        },
        "id": "DwuCaB0qPE-i",
        "outputId": "ccfaea14-b406-4452-d5a4-da1b0ce6d7d1"
      },
      "execution_count": 18,
      "outputs": [
        {
          "output_type": "display_data",
          "data": {
            "text/plain": [
              "<Figure size 600x500 with 2 Axes>"
            ],
            "image/png": "[encoded data removed]"
          },
          "metadata": {}
        }
      ]
    }
  ]
}